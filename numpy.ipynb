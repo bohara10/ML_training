{
  "nbformat": 4,
  "nbformat_minor": 0,
  "metadata": {
    "colab": {
      "provenance": [],
      "toc_visible": true,
      "authorship_tag": "ABX9TyP2QTxEBWCt8OnqjUSBrqsf",
      "include_colab_link": true
    },
    "kernelspec": {
      "name": "python3",
      "display_name": "Python 3"
    },
    "language_info": {
      "name": "python"
    }
  },
  "cells": [
    {
      "cell_type": "markdown",
      "metadata": {
        "id": "view-in-github",
        "colab_type": "text"
      },
      "source": [
        "<a href=\"https://colab.research.google.com/github/bohara10/ML_training/blob/main/numpy.ipynb\" target=\"_parent\"><img src=\"https://colab.research.google.com/assets/colab-badge.svg\" alt=\"Open In Colab\"/></a>"
      ]
    },
    {
      "cell_type": "markdown",
      "source": [
        "what we will cover?\n",
        "\n",
        "1.Creating arrays\n",
        "2.Multidimensional array\n",
        "3.Randomly generated arrays\n",
        "4.Element wise operations\n",
        "5.Summarrizing operations"
      ],
      "metadata": {
        "id": "t_PVW2dTuv1j"
      }
    },
    {
      "cell_type": "markdown",
      "source": [
        "# single dimensional arrays"
      ],
      "metadata": {
        "id": "uwWnXLQhxlsR"
      }
    },
    {
      "cell_type": "code",
      "source": [
        "#creating an array with all elements 1\n",
        "import numpy as np\n",
        "np.ones(5)"
      ],
      "metadata": {
        "colab": {
          "base_uri": "https://localhost:8080/"
        },
        "id": "v_oOoNUf4cdb",
        "outputId": "48ef0968-0bf2-42ff-903f-b97ccc664147"
      },
      "execution_count": 29,
      "outputs": [
        {
          "output_type": "execute_result",
          "data": {
            "text/plain": [
              "array([1., 1., 1., 1., 1.])"
            ]
          },
          "metadata": {},
          "execution_count": 29
        }
      ]
    },
    {
      "cell_type": "code",
      "source": [
        "#creating an array of size 10 with all elements 3\n",
        "\n",
        "np.full(10, 3)"
      ],
      "metadata": {
        "id": "_jj6HGfs4gos"
      },
      "execution_count": null,
      "outputs": []
    },
    {
      "cell_type": "code",
      "source": [
        "#create an array with all the emlements to be zeros\n",
        "np.zeros(5)"
      ],
      "metadata": {
        "id": "f7umuluB4n7C"
      },
      "execution_count": null,
      "outputs": []
    },
    {
      "cell_type": "code",
      "source": [
        "#create an array with\n",
        "np.array([1, 2, 3, 4, 5])"
      ],
      "metadata": {
        "id": "3O-XsEXk4vf-"
      },
      "execution_count": null,
      "outputs": []
    },
    {
      "cell_type": "code",
      "source": [
        "np.arange(3,10)"
      ],
      "metadata": {
        "id": "kDl0y-8a5qrQ"
      },
      "execution_count": null,
      "outputs": []
    },
    {
      "cell_type": "code",
      "source": [
        "#create an array with evenly  spaced numbers within a specified range\n",
        "np.linspace(0,100,11)"
      ],
      "metadata": {
        "id": "irdNvdVa5z2I"
      },
      "execution_count": null,
      "outputs": []
    },
    {
      "cell_type": "markdown",
      "source": [
        "# multi dimensional arrays\n"
      ],
      "metadata": {
        "id": "e-0w2zGRxsfd"
      }
    },
    {
      "cell_type": "markdown",
      "source": [
        "2.Multidimensional array"
      ],
      "metadata": {
        "id": "vmradYucxCUG"
      }
    },
    {
      "cell_type": "code",
      "source": [
        "np.zeros((3,5))\n"
      ],
      "metadata": {
        "colab": {
          "base_uri": "https://localhost:8080/"
        },
        "id": "dloM1K8WyFgv",
        "outputId": "96490986-5a14-4739-cd8a-957c912e0672"
      },
      "execution_count": 7,
      "outputs": [
        {
          "output_type": "execute_result",
          "data": {
            "text/plain": [
              "array([[0., 0., 0., 0., 0.],\n",
              "       [0., 0., 0., 0., 0.],\n",
              "       [0., 0., 0., 0., 0.]])"
            ]
          },
          "metadata": {},
          "execution_count": 7
        }
      ]
    },
    {
      "cell_type": "code",
      "source": [
        "np.ones((3,3))"
      ],
      "metadata": {
        "colab": {
          "base_uri": "https://localhost:8080/"
        },
        "id": "MlWlknJ3yNeE",
        "outputId": "a2282c84-2612-4538-f265-57adfcf0f638"
      },
      "execution_count": 9,
      "outputs": [
        {
          "output_type": "execute_result",
          "data": {
            "text/plain": [
              "array([[1., 1., 1.],\n",
              "       [1., 1., 1.],\n",
              "       [1., 1., 1.]])"
            ]
          },
          "metadata": {},
          "execution_count": 9
        }
      ]
    },
    {
      "cell_type": "code",
      "source": [
        "a = np.array([\n",
        "    [1, 2, 3],\n",
        "    [4, 5, 6],\n",
        "    [7, 8, 9]\n",
        "])\n",
        "\n",
        "a[0,1] = 20\n",
        "a\n",
        "a[3,]\n"
      ],
      "metadata": {
        "colab": {
          "base_uri": "https://localhost:8080/"
        },
        "id": "4sgedN6x04MH",
        "outputId": "815a6fc7-46b0-4be0-9bf5-8ae31a44105f"
      },
      "execution_count": 24,
      "outputs": [
        {
          "output_type": "execute_result",
          "data": {
            "text/plain": [
              "array([[ 1, 20,  3],\n",
              "       [ 4,  5,  6],\n",
              "       [ 7,  8,  9]])"
            ]
          },
          "metadata": {},
          "execution_count": 24
        }
      ]
    },
    {
      "cell_type": "code",
      "source": [
        "\n",
        "\n"
      ],
      "metadata": {
        "id": "GwHB8C0111fl"
      },
      "execution_count": null,
      "outputs": []
    },
    {
      "cell_type": "code",
      "source": [
        "np.full((3,3),10)"
      ],
      "metadata": {
        "colab": {
          "base_uri": "https://localhost:8080/"
        },
        "id": "xy1p9tRP1Ywu",
        "outputId": "89a0ca41-cff1-470b-e5dc-b89ec367c946"
      },
      "execution_count": 22,
      "outputs": [
        {
          "output_type": "execute_result",
          "data": {
            "text/plain": [
              "array([[10, 10, 10],\n",
              "       [10, 10, 10],\n",
              "       [10, 10, 10]])"
            ]
          },
          "metadata": {},
          "execution_count": 22
        }
      ]
    },
    {
      "cell_type": "code",
      "source": [],
      "metadata": {
        "id": "elfXQqwF1F-o"
      },
      "execution_count": null,
      "outputs": []
    },
    {
      "cell_type": "markdown",
      "source": [],
      "metadata": {
        "id": "pVkvmCBEyDpN"
      }
    },
    {
      "cell_type": "markdown",
      "source": [
        "3.Randomly generated arrays"
      ],
      "metadata": {
        "id": "QfBeZDL0xG2f"
      }
    },
    {
      "cell_type": "markdown",
      "source": [
        "### Randomly generated arrays\n",
        "\n",
        "- NumPy can create arrays filled with random numbers\n",
        "- To ensures the reproductbility ,you can seta seed using np.random.seed().it will generate the exact same random numbers for each executions\n",
        "-if you remove or change the seed values , the sequence of random numbers will be changed"
      ],
      "metadata": {
        "id": "gsrR2Rkf2eHo"
      }
    },
    {
      "cell_type": "code",
      "source": [
        "np.random.rand(5)"
      ],
      "metadata": {
        "colab": {
          "base_uri": "https://localhost:8080/"
        },
        "id": "TNUrcboY3MAJ",
        "outputId": "33b7a6de-5675-4c14-8b76-887b49154711"
      },
      "execution_count": 25,
      "outputs": [
        {
          "output_type": "execute_result",
          "data": {
            "text/plain": [
              "array([0.76378997, 0.18089147, 0.66199537, 0.52486665, 0.20265626])"
            ]
          },
          "metadata": {},
          "execution_count": 25
        }
      ]
    },
    {
      "cell_type": "code",
      "source": [
        "np.random.seed(5)\n",
        "np.random.rand(5)"
      ],
      "metadata": {
        "colab": {
          "base_uri": "https://localhost:8080/"
        },
        "id": "AjZMjm3B3Rij",
        "outputId": "d9184317-565e-44fa-ac60-40413cc11605"
      },
      "execution_count": 28,
      "outputs": [
        {
          "output_type": "execute_result",
          "data": {
            "text/plain": [
              "array([0.22199317, 0.87073231, 0.20671916, 0.91861091, 0.48841119])"
            ]
          },
          "metadata": {},
          "execution_count": 28
        }
      ]
    },
    {
      "cell_type": "code",
      "source": [
        "np.random.randn(5,2)"
      ],
      "metadata": {
        "colab": {
          "base_uri": "https://localhost:8080/"
        },
        "id": "AYXHD4fa4FXC",
        "outputId": "37000e40-80d4-40c6-c6e8-92479c7acf23"
      },
      "execution_count": 31,
      "outputs": [
        {
          "output_type": "execute_result",
          "data": {
            "text/plain": [
              "array([[ 1.36758552,  0.57470769],\n",
              "       [-1.88576241,  0.17092537],\n",
              "       [-0.40309331,  1.63762849],\n",
              "       [-0.60529785, -1.59441507],\n",
              "       [ 0.91187364, -1.44384155]])"
            ]
          },
          "metadata": {},
          "execution_count": 31
        }
      ]
    },
    {
      "cell_type": "code",
      "source": [
        "np.random.randint(low=0, high=100 ,size=(5,2))"
      ],
      "metadata": {
        "colab": {
          "base_uri": "https://localhost:8080/"
        },
        "id": "FkGlsZ2z46oO",
        "outputId": "98051ea9-548a-42b0-9303-026449a70d22"
      },
      "execution_count": 33,
      "outputs": [
        {
          "output_type": "execute_result",
          "data": {
            "text/plain": [
              "array([[41, 62],\n",
              "       [ 1, 82],\n",
              "       [16, 78],\n",
              "       [ 5, 58],\n",
              "       [ 0, 80]])"
            ]
          },
          "metadata": {},
          "execution_count": 33
        }
      ]
    },
    {
      "cell_type": "markdown",
      "source": [
        "4.Element wise operations"
      ],
      "metadata": {
        "id": "1zSA61-6xJrN"
      }
    },
    {
      "cell_type": "markdown",
      "source": [
        "5.Summarrizing operations"
      ],
      "metadata": {
        "id": "ElizKjzXxMtS"
      }
    }
  ]
}