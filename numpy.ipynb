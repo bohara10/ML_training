{
  "nbformat": 4,
  "nbformat_minor": 0,
  "metadata": {
    "colab": {
      "provenance": [],
      "toc_visible": true,
      "authorship_tag": "ABX9TyOolyogOaIiLgxhjxJw2afQ",
      "include_colab_link": true
    },
    "kernelspec": {
      "name": "python3",
      "display_name": "Python 3"
    },
    "language_info": {
      "name": "python"
    }
  },
  "cells": [
    {
      "cell_type": "markdown",
      "metadata": {
        "id": "view-in-github",
        "colab_type": "text"
      },
      "source": [
        "<a href=\"https://colab.research.google.com/github/bohara10/ML_training/blob/main/numpy.ipynb\" target=\"_parent\"><img src=\"https://colab.research.google.com/assets/colab-badge.svg\" alt=\"Open In Colab\"/></a>"
      ]
    },
    {
      "cell_type": "markdown",
      "source": [
        "what we will cover?\n",
        "\n",
        "1.Creating arrays\n",
        "2.Multidimensional array\n",
        "3.Randomly generated arrays\n",
        "4.Element wise operations\n",
        "5.Summarrizing operations"
      ],
      "metadata": {
        "id": "t_PVW2dTuv1j"
      }
    },
    {
      "cell_type": "markdown",
      "source": [
        "# single dimensional arrays"
      ],
      "metadata": {
        "id": "uwWnXLQhxlsR"
      }
    },
    {
      "cell_type": "code",
      "source": [
        "#creating an array with all elements 1\n",
        "import numpy as np\n",
        "np.ones(5)"
      ],
      "metadata": {
        "colab": {
          "base_uri": "https://localhost:8080/"
        },
        "id": "v_oOoNUf4cdb",
        "outputId": "48ef0968-0bf2-42ff-903f-b97ccc664147"
      },
      "execution_count": null,
      "outputs": [
        {
          "output_type": "execute_result",
          "data": {
            "text/plain": [
              "array([1., 1., 1., 1., 1.])"
            ]
          },
          "metadata": {},
          "execution_count": 29
        }
      ]
    },
    {
      "cell_type": "code",
      "source": [
        "#creating an array of size 10 with all elements 3\n",
        "\n",
        "np.full(10, 3)"
      ],
      "metadata": {
        "id": "_jj6HGfs4gos"
      },
      "execution_count": null,
      "outputs": []
    },
    {
      "cell_type": "code",
      "source": [
        "#create an array with all the emlements to be zeros\n",
        "np.zeros(5)"
      ],
      "metadata": {
        "id": "f7umuluB4n7C"
      },
      "execution_count": null,
      "outputs": []
    },
    {
      "cell_type": "code",
      "source": [
        "#create an array with\n",
        "np.array([1, 2, 3, 4, 5])"
      ],
      "metadata": {
        "id": "3O-XsEXk4vf-"
      },
      "execution_count": null,
      "outputs": []
    },
    {
      "cell_type": "code",
      "source": [
        "np.arange(3,10)"
      ],
      "metadata": {
        "id": "kDl0y-8a5qrQ"
      },
      "execution_count": null,
      "outputs": []
    },
    {
      "cell_type": "code",
      "source": [
        "#create an array with evenly  spaced numbers within a specified range\n",
        "np.linspace(0,100,11)"
      ],
      "metadata": {
        "id": "irdNvdVa5z2I"
      },
      "execution_count": null,
      "outputs": []
    },
    {
      "cell_type": "markdown",
      "source": [
        "# multi dimensional arrays\n"
      ],
      "metadata": {
        "id": "e-0w2zGRxsfd"
      }
    },
    {
      "cell_type": "markdown",
      "source": [
        "2.Multidimensional array"
      ],
      "metadata": {
        "id": "vmradYucxCUG"
      }
    },
    {
      "cell_type": "code",
      "source": [
        "np.zeros((3,5))\n"
      ],
      "metadata": {
        "colab": {
          "base_uri": "https://localhost:8080/"
        },
        "id": "dloM1K8WyFgv",
        "outputId": "96490986-5a14-4739-cd8a-957c912e0672"
      },
      "execution_count": null,
      "outputs": [
        {
          "output_type": "execute_result",
          "data": {
            "text/plain": [
              "array([[0., 0., 0., 0., 0.],\n",
              "       [0., 0., 0., 0., 0.],\n",
              "       [0., 0., 0., 0., 0.]])"
            ]
          },
          "metadata": {},
          "execution_count": 7
        }
      ]
    },
    {
      "cell_type": "code",
      "source": [
        "np.ones((3,3))"
      ],
      "metadata": {
        "colab": {
          "base_uri": "https://localhost:8080/"
        },
        "id": "MlWlknJ3yNeE",
        "outputId": "a2282c84-2612-4538-f265-57adfcf0f638"
      },
      "execution_count": null,
      "outputs": [
        {
          "output_type": "execute_result",
          "data": {
            "text/plain": [
              "array([[1., 1., 1.],\n",
              "       [1., 1., 1.],\n",
              "       [1., 1., 1.]])"
            ]
          },
          "metadata": {},
          "execution_count": 9
        }
      ]
    },
    {
      "cell_type": "code",
      "source": [
        "a = np.array([\n",
        "    [1, 2, 3],\n",
        "    [4, 5, 6],\n",
        "    [7, 8, 9]\n",
        "])\n",
        "\n",
        "a[0,1] = 20\n",
        "a\n",
        "a[3,]\n"
      ],
      "metadata": {
        "colab": {
          "base_uri": "https://localhost:8080/"
        },
        "id": "4sgedN6x04MH",
        "outputId": "815a6fc7-46b0-4be0-9bf5-8ae31a44105f"
      },
      "execution_count": null,
      "outputs": [
        {
          "output_type": "execute_result",
          "data": {
            "text/plain": [
              "array([[ 1, 20,  3],\n",
              "       [ 4,  5,  6],\n",
              "       [ 7,  8,  9]])"
            ]
          },
          "metadata": {},
          "execution_count": 24
        }
      ]
    },
    {
      "cell_type": "code",
      "source": [
        "\n",
        "\n"
      ],
      "metadata": {
        "id": "GwHB8C0111fl"
      },
      "execution_count": null,
      "outputs": []
    },
    {
      "cell_type": "code",
      "source": [
        "np.full((3,3),10)"
      ],
      "metadata": {
        "colab": {
          "base_uri": "https://localhost:8080/"
        },
        "id": "xy1p9tRP1Ywu",
        "outputId": "89a0ca41-cff1-470b-e5dc-b89ec367c946"
      },
      "execution_count": null,
      "outputs": [
        {
          "output_type": "execute_result",
          "data": {
            "text/plain": [
              "array([[10, 10, 10],\n",
              "       [10, 10, 10],\n",
              "       [10, 10, 10]])"
            ]
          },
          "metadata": {},
          "execution_count": 22
        }
      ]
    },
    {
      "cell_type": "code",
      "source": [],
      "metadata": {
        "id": "elfXQqwF1F-o"
      },
      "execution_count": null,
      "outputs": []
    },
    {
      "cell_type": "markdown",
      "source": [],
      "metadata": {
        "id": "pVkvmCBEyDpN"
      }
    },
    {
      "cell_type": "markdown",
      "source": [
        "3.Randomly generated arrays"
      ],
      "metadata": {
        "id": "QfBeZDL0xG2f"
      }
    },
    {
      "cell_type": "markdown",
      "source": [
        "### Randomly generated arrays\n",
        "\n",
        "- NumPy can create arrays filled with random numbers\n",
        "- To ensures the reproductbility ,you can seta seed using np.random.seed().it will generate the exact same random numbers for each executions\n",
        "-if you remove or change the seed values , the sequence of random numbers will be changed"
      ],
      "metadata": {
        "id": "gsrR2Rkf2eHo"
      }
    },
    {
      "cell_type": "code",
      "source": [
        "import numpy as np\n",
        "np.random.rand(5)"
      ],
      "metadata": {
        "colab": {
          "base_uri": "https://localhost:8080/"
        },
        "id": "TNUrcboY3MAJ",
        "outputId": "429f2679-a402-4598-a8aa-d422aba70d60"
      },
      "execution_count": 5,
      "outputs": [
        {
          "output_type": "execute_result",
          "data": {
            "text/plain": [
              "array([0.74024225, 0.23482652, 0.6449435 , 0.41588294, 0.59719366])"
            ]
          },
          "metadata": {},
          "execution_count": 5
        }
      ]
    },
    {
      "cell_type": "code",
      "source": [
        "np.random.seed(5)\n",
        "np.random.rand(5)"
      ],
      "metadata": {
        "colab": {
          "base_uri": "https://localhost:8080/"
        },
        "id": "AjZMjm3B3Rij",
        "outputId": "7c9cc0ee-ca04-4f62-f3e0-73b6f566b8b0"
      },
      "execution_count": 6,
      "outputs": [
        {
          "output_type": "execute_result",
          "data": {
            "text/plain": [
              "array([0.22199317, 0.87073231, 0.20671916, 0.91861091, 0.48841119])"
            ]
          },
          "metadata": {},
          "execution_count": 6
        }
      ]
    },
    {
      "cell_type": "code",
      "source": [
        "np.random.randn(5,2)"
      ],
      "metadata": {
        "colab": {
          "base_uri": "https://localhost:8080/"
        },
        "id": "AYXHD4fa4FXC",
        "outputId": "a50bee37-3f80-4a98-bf17-f48e7b1eb322"
      },
      "execution_count": 8,
      "outputs": [
        {
          "output_type": "execute_result",
          "data": {
            "text/plain": [
              "array([[-1.19276461, -0.20487651],\n",
              "       [-0.35882895,  0.6034716 ],\n",
              "       [-1.66478853, -0.70017904],\n",
              "       [ 1.15139101,  1.85733101],\n",
              "       [-1.51117956,  0.64484751]])"
            ]
          },
          "metadata": {},
          "execution_count": 8
        }
      ]
    },
    {
      "cell_type": "code",
      "source": [
        "np.random.randint(low=0, high=100 ,size=(5,2))"
      ],
      "metadata": {
        "colab": {
          "base_uri": "https://localhost:8080/"
        },
        "id": "FkGlsZ2z46oO",
        "outputId": "6ae68b2d-ce9c-4fa3-eb77-b70bc2673f8b"
      },
      "execution_count": 7,
      "outputs": [
        {
          "output_type": "execute_result",
          "data": {
            "text/plain": [
              "array([[62, 27],\n",
              "       [30, 80],\n",
              "       [ 7, 76],\n",
              "       [15, 53],\n",
              "       [80, 27]])"
            ]
          },
          "metadata": {},
          "execution_count": 7
        }
      ]
    },
    {
      "cell_type": "markdown",
      "source": [
        "4.Element wise operations"
      ],
      "metadata": {
        "id": "1zSA61-6xJrN"
      }
    },
    {
      "cell_type": "code",
      "source": [
        "import numpy as np\n",
        "a = np.arange(5)\n",
        "a"
      ],
      "metadata": {
        "colab": {
          "base_uri": "https://localhost:8080/"
        },
        "id": "pHKOeagJGHoT",
        "outputId": "e9dee48a-a0ec-40aa-c2b3-eab6298792f2"
      },
      "execution_count": 11,
      "outputs": [
        {
          "output_type": "execute_result",
          "data": {
            "text/plain": [
              "array([0, 1, 2, 3, 4])"
            ]
          },
          "metadata": {},
          "execution_count": 11
        }
      ]
    },
    {
      "cell_type": "code",
      "source": [
        "b = (10 + (a*2))\n",
        "b"
      ],
      "metadata": {
        "colab": {
          "base_uri": "https://localhost:8080/"
        },
        "id": "6eJEnCLMGQsQ",
        "outputId": "0874637b-0036-47c7-f1b8-361b8877d468"
      },
      "execution_count": 12,
      "outputs": [
        {
          "output_type": "execute_result",
          "data": {
            "text/plain": [
              "array([10, 12, 14, 16, 18])"
            ]
          },
          "metadata": {},
          "execution_count": 12
        }
      ]
    },
    {
      "cell_type": "code",
      "source": [
        "#comparison operations\n",
        "a\n"
      ],
      "metadata": {
        "colab": {
          "base_uri": "https://localhost:8080/"
        },
        "id": "YpRgyKyQHI1h",
        "outputId": "d918a1ef-793b-4f89-8d8c-e2f717ac73c2"
      },
      "execution_count": 14,
      "outputs": [
        {
          "output_type": "execute_result",
          "data": {
            "text/plain": [
              "array([0, 1, 2, 3, 4])"
            ]
          },
          "metadata": {},
          "execution_count": 14
        }
      ]
    },
    {
      "cell_type": "code",
      "source": [
        "a>=b"
      ],
      "metadata": {
        "colab": {
          "base_uri": "https://localhost:8080/"
        },
        "id": "UfIcrP02HRzf",
        "outputId": "b70f9fef-085a-4e45-9729-d54eb26f2ad0"
      },
      "execution_count": 15,
      "outputs": [
        {
          "output_type": "execute_result",
          "data": {
            "text/plain": [
              "array([False, False, False, False, False])"
            ]
          },
          "metadata": {},
          "execution_count": 15
        }
      ]
    },
    {
      "cell_type": "code",
      "source": [
        "a>=2"
      ],
      "metadata": {
        "colab": {
          "base_uri": "https://localhost:8080/"
        },
        "id": "tTqYoD4QHY-2",
        "outputId": "ee7e67ea-c2c1-4bcc-8fba-62146cbf523d"
      },
      "execution_count": 16,
      "outputs": [
        {
          "output_type": "execute_result",
          "data": {
            "text/plain": [
              "array([False, False,  True,  True,  True])"
            ]
          },
          "metadata": {},
          "execution_count": 16
        }
      ]
    },
    {
      "cell_type": "code",
      "source": [
        "a > 2"
      ],
      "metadata": {
        "colab": {
          "base_uri": "https://localhost:8080/"
        },
        "id": "-0lglsegHbgU",
        "outputId": "0af0a351-9637-43fd-a2fe-b933a42ee8d3"
      },
      "execution_count": 17,
      "outputs": [
        {
          "output_type": "execute_result",
          "data": {
            "text/plain": [
              "array([False, False, False,  True,  True])"
            ]
          },
          "metadata": {},
          "execution_count": 17
        }
      ]
    },
    {
      "cell_type": "code",
      "source": [
        "#summarizing of the data\n",
        "#Numpy provides functions for summarizing array data\n",
        "\n",
        "a\n"
      ],
      "metadata": {
        "colab": {
          "base_uri": "https://localhost:8080/"
        },
        "id": "E62HQgfZHfN1",
        "outputId": "3f08cbb1-3f83-44be-f55d-bac2035527cf"
      },
      "execution_count": 18,
      "outputs": [
        {
          "output_type": "execute_result",
          "data": {
            "text/plain": [
              "array([0, 1, 2, 3, 4])"
            ]
          },
          "metadata": {},
          "execution_count": 18
        }
      ]
    },
    {
      "cell_type": "code",
      "source": [
        "a.std()"
      ],
      "metadata": {
        "colab": {
          "base_uri": "https://localhost:8080/"
        },
        "id": "k3bzr18eIo0U",
        "outputId": "ca1d8564-ece9-4c02-ebee-b0071b81abc2"
      },
      "execution_count": 19,
      "outputs": [
        {
          "output_type": "execute_result",
          "data": {
            "text/plain": [
              "1.4142135623730951"
            ]
          },
          "metadata": {},
          "execution_count": 19
        }
      ]
    },
    {
      "cell_type": "code",
      "source": [
        "a.min()\n"
      ],
      "metadata": {
        "colab": {
          "base_uri": "https://localhost:8080/"
        },
        "id": "vdmNqan9I8AJ",
        "outputId": "4ca669d1-7ea8-4005-aca4-0fcd5b52ad7d"
      },
      "execution_count": 22,
      "outputs": [
        {
          "output_type": "execute_result",
          "data": {
            "text/plain": [
              "0"
            ]
          },
          "metadata": {},
          "execution_count": 22
        }
      ]
    },
    {
      "cell_type": "code",
      "source": [
        "a.max()"
      ],
      "metadata": {
        "colab": {
          "base_uri": "https://localhost:8080/"
        },
        "id": "xKXBIa4aI12b",
        "outputId": "f71c1583-ad17-4637-d360-92c1445dba26"
      },
      "execution_count": 21,
      "outputs": [
        {
          "output_type": "execute_result",
          "data": {
            "text/plain": [
              "4"
            ]
          },
          "metadata": {},
          "execution_count": 21
        }
      ]
    },
    {
      "cell_type": "markdown",
      "source": [
        "5.Summarrizing operations"
      ],
      "metadata": {
        "id": "ElizKjzXxMtS"
      }
    }
  ]
}